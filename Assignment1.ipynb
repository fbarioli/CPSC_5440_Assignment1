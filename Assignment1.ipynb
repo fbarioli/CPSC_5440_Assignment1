{
  "nbformat": 4,
  "nbformat_minor": 0,
  "metadata": {
    "colab": {
      "provenance": [],
      "authorship_tag": "ABX9TyPE7Z9M20+BK359udsUeBAG",
      "include_colab_link": true
    },
    "kernelspec": {
      "name": "python3",
      "display_name": "Python 3"
    },
    "language_info": {
      "name": "python"
    }
  },
  "cells": [
    {
      "cell_type": "markdown",
      "metadata": {
        "id": "view-in-github",
        "colab_type": "text"
      },
      "source": [
        "<a href=\"https://colab.research.google.com/github/fbarioli/nuovo-repository/blob/main/Assignment1.ipynb\" target=\"_parent\"><img src=\"https://colab.research.google.com/assets/colab-badge.svg\" alt=\"Open In Colab\"/></a>"
      ]
    },
    {
      "cell_type": "markdown",
      "source": [
        "In this assignment we use text files in three different languages (English, German, and Italian) to build a training/testing dataset."
      ],
      "metadata": {
        "id": "dm9fPaP4mQR8"
      }
    },
    {
      "cell_type": "code",
      "execution_count": 1,
      "metadata": {
        "colab": {
          "base_uri": "https://localhost:8080/",
          "height": 142
        },
        "id": "iucfI6iQ_8oC",
        "outputId": "bed7d512-317a-41c1-8613-406f42167e4c"
      },
      "outputs": [
        {
          "output_type": "display_data",
          "data": {
            "text/plain": [
              "<IPython.core.display.HTML object>"
            ],
            "text/html": [
              "\n",
              "     <input type=\"file\" id=\"files-126cd4f7-7670-49d6-8413-a51c4fe54309\" name=\"files[]\" multiple disabled\n",
              "        style=\"border:none\" />\n",
              "     <output id=\"result-126cd4f7-7670-49d6-8413-a51c4fe54309\">\n",
              "      Upload widget is only available when the cell has been executed in the\n",
              "      current browser session. Please rerun this cell to enable.\n",
              "      </output>\n",
              "      <script>// Copyright 2017 Google LLC\n",
              "//\n",
              "// Licensed under the Apache License, Version 2.0 (the \"License\");\n",
              "// you may not use this file except in compliance with the License.\n",
              "// You may obtain a copy of the License at\n",
              "//\n",
              "//      http://www.apache.org/licenses/LICENSE-2.0\n",
              "//\n",
              "// Unless required by applicable law or agreed to in writing, software\n",
              "// distributed under the License is distributed on an \"AS IS\" BASIS,\n",
              "// WITHOUT WARRANTIES OR CONDITIONS OF ANY KIND, either express or implied.\n",
              "// See the License for the specific language governing permissions and\n",
              "// limitations under the License.\n",
              "\n",
              "/**\n",
              " * @fileoverview Helpers for google.colab Python module.\n",
              " */\n",
              "(function(scope) {\n",
              "function span(text, styleAttributes = {}) {\n",
              "  const element = document.createElement('span');\n",
              "  element.textContent = text;\n",
              "  for (const key of Object.keys(styleAttributes)) {\n",
              "    element.style[key] = styleAttributes[key];\n",
              "  }\n",
              "  return element;\n",
              "}\n",
              "\n",
              "// Max number of bytes which will be uploaded at a time.\n",
              "const MAX_PAYLOAD_SIZE = 100 * 1024;\n",
              "\n",
              "function _uploadFiles(inputId, outputId) {\n",
              "  const steps = uploadFilesStep(inputId, outputId);\n",
              "  const outputElement = document.getElementById(outputId);\n",
              "  // Cache steps on the outputElement to make it available for the next call\n",
              "  // to uploadFilesContinue from Python.\n",
              "  outputElement.steps = steps;\n",
              "\n",
              "  return _uploadFilesContinue(outputId);\n",
              "}\n",
              "\n",
              "// This is roughly an async generator (not supported in the browser yet),\n",
              "// where there are multiple asynchronous steps and the Python side is going\n",
              "// to poll for completion of each step.\n",
              "// This uses a Promise to block the python side on completion of each step,\n",
              "// then passes the result of the previous step as the input to the next step.\n",
              "function _uploadFilesContinue(outputId) {\n",
              "  const outputElement = document.getElementById(outputId);\n",
              "  const steps = outputElement.steps;\n",
              "\n",
              "  const next = steps.next(outputElement.lastPromiseValue);\n",
              "  return Promise.resolve(next.value.promise).then((value) => {\n",
              "    // Cache the last promise value to make it available to the next\n",
              "    // step of the generator.\n",
              "    outputElement.lastPromiseValue = value;\n",
              "    return next.value.response;\n",
              "  });\n",
              "}\n",
              "\n",
              "/**\n",
              " * Generator function which is called between each async step of the upload\n",
              " * process.\n",
              " * @param {string} inputId Element ID of the input file picker element.\n",
              " * @param {string} outputId Element ID of the output display.\n",
              " * @return {!Iterable<!Object>} Iterable of next steps.\n",
              " */\n",
              "function* uploadFilesStep(inputId, outputId) {\n",
              "  const inputElement = document.getElementById(inputId);\n",
              "  inputElement.disabled = false;\n",
              "\n",
              "  const outputElement = document.getElementById(outputId);\n",
              "  outputElement.innerHTML = '';\n",
              "\n",
              "  const pickedPromise = new Promise((resolve) => {\n",
              "    inputElement.addEventListener('change', (e) => {\n",
              "      resolve(e.target.files);\n",
              "    });\n",
              "  });\n",
              "\n",
              "  const cancel = document.createElement('button');\n",
              "  inputElement.parentElement.appendChild(cancel);\n",
              "  cancel.textContent = 'Cancel upload';\n",
              "  const cancelPromise = new Promise((resolve) => {\n",
              "    cancel.onclick = () => {\n",
              "      resolve(null);\n",
              "    };\n",
              "  });\n",
              "\n",
              "  // Wait for the user to pick the files.\n",
              "  const files = yield {\n",
              "    promise: Promise.race([pickedPromise, cancelPromise]),\n",
              "    response: {\n",
              "      action: 'starting',\n",
              "    }\n",
              "  };\n",
              "\n",
              "  cancel.remove();\n",
              "\n",
              "  // Disable the input element since further picks are not allowed.\n",
              "  inputElement.disabled = true;\n",
              "\n",
              "  if (!files) {\n",
              "    return {\n",
              "      response: {\n",
              "        action: 'complete',\n",
              "      }\n",
              "    };\n",
              "  }\n",
              "\n",
              "  for (const file of files) {\n",
              "    const li = document.createElement('li');\n",
              "    li.append(span(file.name, {fontWeight: 'bold'}));\n",
              "    li.append(span(\n",
              "        `(${file.type || 'n/a'}) - ${file.size} bytes, ` +\n",
              "        `last modified: ${\n",
              "            file.lastModifiedDate ? file.lastModifiedDate.toLocaleDateString() :\n",
              "                                    'n/a'} - `));\n",
              "    const percent = span('0% done');\n",
              "    li.appendChild(percent);\n",
              "\n",
              "    outputElement.appendChild(li);\n",
              "\n",
              "    const fileDataPromise = new Promise((resolve) => {\n",
              "      const reader = new FileReader();\n",
              "      reader.onload = (e) => {\n",
              "        resolve(e.target.result);\n",
              "      };\n",
              "      reader.readAsArrayBuffer(file);\n",
              "    });\n",
              "    // Wait for the data to be ready.\n",
              "    let fileData = yield {\n",
              "      promise: fileDataPromise,\n",
              "      response: {\n",
              "        action: 'continue',\n",
              "      }\n",
              "    };\n",
              "\n",
              "    // Use a chunked sending to avoid message size limits. See b/62115660.\n",
              "    let position = 0;\n",
              "    do {\n",
              "      const length = Math.min(fileData.byteLength - position, MAX_PAYLOAD_SIZE);\n",
              "      const chunk = new Uint8Array(fileData, position, length);\n",
              "      position += length;\n",
              "\n",
              "      const base64 = btoa(String.fromCharCode.apply(null, chunk));\n",
              "      yield {\n",
              "        response: {\n",
              "          action: 'append',\n",
              "          file: file.name,\n",
              "          data: base64,\n",
              "        },\n",
              "      };\n",
              "\n",
              "      let percentDone = fileData.byteLength === 0 ?\n",
              "          100 :\n",
              "          Math.round((position / fileData.byteLength) * 100);\n",
              "      percent.textContent = `${percentDone}% done`;\n",
              "\n",
              "    } while (position < fileData.byteLength);\n",
              "  }\n",
              "\n",
              "  // All done.\n",
              "  yield {\n",
              "    response: {\n",
              "      action: 'complete',\n",
              "    }\n",
              "  };\n",
              "}\n",
              "\n",
              "scope.google = scope.google || {};\n",
              "scope.google.colab = scope.google.colab || {};\n",
              "scope.google.colab._files = {\n",
              "  _uploadFiles,\n",
              "  _uploadFilesContinue,\n",
              "};\n",
              "})(self);\n",
              "</script> "
            ]
          },
          "metadata": {}
        },
        {
          "output_type": "stream",
          "name": "stdout",
          "text": [
            "Saving english.txt to english.txt\n",
            "Saving german.txt to german.txt\n",
            "Saving italian.txt to italian.txt\n"
          ]
        }
      ],
      "source": [
        "from google.colab import files\n",
        "uploaded = files.upload()"
      ]
    },
    {
      "cell_type": "markdown",
      "source": [
        "We now create a dataset (data) by selecting only the 5-letter words from the three languages and storing the relative ASCII codes. We use Latin1 encoding for German and Italian. We also create the list dataTarget with the corresponding target data (0=English, 1=German, 2=Italian)."
      ],
      "metadata": {
        "id": "rZueRu74dJf5"
      }
    },
    {
      "cell_type": "code",
      "source": [
        "# open txt files with words in three different languages\n",
        "\n",
        "englishFile = open(\"english.txt\",\"r\",encoding='latin1')\n",
        "germanFile = open(\"german.txt\", \"r\", encoding='latin1')\n",
        "italianFile = open(\"italian.txt\", \"r\", encoding='latin1')\n",
        "\n",
        "data = []                   # data to be populated with ASCII codes of 5-letter words from the three languages\n",
        "dataTarget = []             # dataTarget to be populated with a language identifier (0,1,2)\n",
        "\n",
        "def sift5(x,h):             # sift5 reads lines from a file and stores ASCII codes of 5-letter words only\n",
        "  for line in x:\n",
        "    line = line.replace(\"\\n\",\"\")\n",
        "    if (len(line)==5):\n",
        "      data.append([ord(char) for char in line])\n",
        "      dataTarget.append(h)\n",
        "\n",
        "sift5(englishFile,0)        # sift 5-letter words from the three languages and store the language identifier in target\n",
        "sift5(germanFile,1)\n",
        "sift5(italianFile,2)\n",
        "\n",
        "wordCount = len(dataTarget)\n",
        "\n",
        "print(f\"Dataset created. {wordCount} words.\")"
      ],
      "metadata": {
        "id": "rHrBxH8ZFJUE",
        "colab": {
          "base_uri": "https://localhost:8080/"
        },
        "outputId": "24c8c3fc-9bca-4d00-e522-1653525d04ee"
      },
      "execution_count": 13,
      "outputs": [
        {
          "output_type": "stream",
          "name": "stdout",
          "text": [
            "Dataset created. 18422 words.\n"
          ]
        }
      ]
    },
    {
      "cell_type": "markdown",
      "source": [
        "We now make a 90/10 training/testing dataset split. Since words are listed alphabetically, a systematic sample provides a simple and unbiased way to split the data."
      ],
      "metadata": {
        "id": "zj2B9AAao--S"
      }
    },
    {
      "cell_type": "code",
      "source": [
        "# 90/10 training/testing split by using a systematic random sample.\n",
        "\n",
        "training = []\n",
        "trainingTarget = []\n",
        "testing = []\n",
        "testingTarget = []\n",
        "\n",
        "for i in range(wordCount):\n",
        "  if (i % 10 == 0):\n",
        "    testing.append(data[i])    # copy every 10th item to the testing array\n",
        "    testingTarget.append(dataTarget[i])\n",
        "  else:\n",
        "    training.append(data[i])   # copy all the other items to the training array\n",
        "    trainingTarget.append(dataTarget[i])\n",
        "\n",
        "print(f\"Dataset split completed.\")\n",
        "print(f\"Training dataset: {len(trainingTarget)} words.\")\n",
        "print(f\"Testing dataset: {len(testingTarget)} words.\")"
      ],
      "metadata": {
        "id": "S9sCCGrMBqeY",
        "colab": {
          "base_uri": "https://localhost:8080/"
        },
        "outputId": "96980c3d-7101-468c-e325-1538976fff64"
      },
      "execution_count": 15,
      "outputs": [
        {
          "output_type": "stream",
          "name": "stdout",
          "text": [
            "Dataset split completed.\n",
            "Training dataset: 16579 words.\n",
            "Testing dataset: 1843 words.\n"
          ]
        }
      ]
    },
    {
      "cell_type": "markdown",
      "source": [
        "We import, instantiate, and train the KNN, SVM, and MPL models."
      ],
      "metadata": {
        "id": "bi_7YHczqy5L"
      }
    },
    {
      "cell_type": "code",
      "source": [
        "from sklearn.neighbors import KNeighborsClassifier  # import models\n",
        "from sklearn import svm\n",
        "from sklearn.neural_network import MLPClassifier\n",
        "\n",
        "knn_model = KNeighborsClassifier()                  # instantiate models\n",
        "svm_model = svm.SVC()\n",
        "mlp_nn = MLPClassifier()\n",
        "\n",
        "knn_model.fit(training, trainingTarget)             # train models\n",
        "print(\"KNN training completed.\")\n",
        "svm_model.fit(training, trainingTarget)\n",
        "print(\"SVM training completed.\")\n",
        "mlp_nn.fit(training, trainingTarget)\n",
        "print(\"MLP training completed.\")"
      ],
      "metadata": {
        "id": "bPQPWclbB-7D",
        "colab": {
          "base_uri": "https://localhost:8080/"
        },
        "outputId": "08d701ac-109f-475d-8aed-6879f47da42f"
      },
      "execution_count": 19,
      "outputs": [
        {
          "output_type": "stream",
          "name": "stdout",
          "text": [
            "KNN training completed.\n",
            "SVM training completed.\n",
            "MLP training completed.\n"
          ]
        }
      ]
    },
    {
      "cell_type": "markdown",
      "source": [
        "We now test the model with the testing dataset. For each model we determine the relative accuracy. A bar-chart provides a visual comparison of the accuracy of the three models.\n",
        "\n"
      ],
      "metadata": {
        "id": "SKdpVpcNsQmA"
      }
    },
    {
      "cell_type": "code",
      "source": [
        "import numpy as np\n",
        "import matplotlib.pyplot as plt\n",
        "\n",
        "# Target array and predicted arrays\n",
        "testingTargetArray = np.array(testingTarget)\n",
        "knnPredict = knn_model.predict(testing)\n",
        "svmPredict = svm_model.predict(testing)\n",
        "mlpPredict = mlp_nn.predict(testing)\n",
        "\n",
        "# Accuracy of each predicted array\n",
        "def accuracy(predictedArray):\n",
        "  compare = (predictedArray - testingTargetArray == 0)\n",
        "  successCount = compare.sum()\n",
        "  totalCount = len(predictedArray)\n",
        "  accuracy = 100*successCount/totalCount\n",
        "  return accuracy\n",
        "\n",
        "knnAccuracy = accuracy(knnPredict)\n",
        "print(f\"KNN model accuracy {knnAccuracy:.1f}%\")\n",
        "svmAccuracy = accuracy(svmPredict)\n",
        "print(f\"SVM model accuracy {svmAccuracy:.1f}%\")\n",
        "mlpAccuracy = accuracy(mlpPredict)\n",
        "print(f\"MLP model accuracy {mlpAccuracy:.1f}%\")\n",
        "\n",
        "# Label text for each graph\n",
        "labels = (\"KNN\", \"SVM\", \"MLP\")\n",
        "\n",
        "# Numbers that you want the bars to represent\n",
        "value = [knnAccuracy, svmAccuracy, mlpAccuracy]\n",
        "\n",
        "# Title of the plot\n",
        "plt.title(\"Model Accuracy\")\n",
        "\n",
        "# Label for the x values of the bar graph\n",
        "plt.xlabel(\"Accuracy\")\n",
        "\n",
        "# Drawing the bar graph\n",
        "y_pos = np.arange(len(labels))\n",
        "plt.barh(y_pos, value, align=\"center\", alpha=0.5)\n",
        "plt.yticks(y_pos, labels)\n",
        "\n",
        "# Display the graph\n",
        "plt.show()"
      ],
      "metadata": {
        "colab": {
          "base_uri": "https://localhost:8080/",
          "height": 347
        },
        "id": "IfhSSPH_NMgW",
        "outputId": "df19c35a-4847-4d03-c101-3b64427b09cf"
      },
      "execution_count": 24,
      "outputs": [
        {
          "output_type": "stream",
          "name": "stdout",
          "text": [
            "KNN model accuracy 75.2%\n",
            "SVM model accuracy 73.5%\n",
            "MLP model accuracy 73.2%\n"
          ]
        },
        {
          "output_type": "display_data",
          "data": {
            "text/plain": [
              "<Figure size 432x288 with 1 Axes>"
            ],
            "image/png": "[encoded data removed]"
          },
          "metadata": {
            "needs_background": "light"
          }
        }
      ]
    }
  ]
}